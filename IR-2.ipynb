{
 "cells": [
  {
   "cell_type": "markdown",
   "id": "d7874f6c",
   "metadata": {},
   "source": [
    "Assignment 2"
   ]
  },
  {
   "cell_type": "markdown",
   "id": "516ea1bd",
   "metadata": {},
   "source": [
    "AIM: Implement a program for retrieval of documents using inverted files."
   ]
  },
  {
   "cell_type": "code",
   "execution_count": 1,
   "id": "042d4d5a",
   "metadata": {},
   "outputs": [],
   "source": [
    "from nltk.corpus import stopwords\n",
    "import nltk\n",
    "from nltk.stem import LancasterStemmer\n",
    "from nltk.tokenize import word_tokenize\n"
   ]
  },
  {
   "cell_type": "code",
   "execution_count": 2,
   "id": "90f46ae8",
   "metadata": {},
   "outputs": [],
   "source": [
    " stop_words = set(stopwords.words('english'))\n",
    "\n",
    "doc_dict = [\n",
    "    [\"d1\", \"Welcome to hotel heaven such a lovely place\"],\n",
    "    [\"d2\", \"She is buying a stairway to heaven\"],\n",
    "    [\"d3\", \"Don't make it bad\"],\n",
    "    [\"d4\", \"Take me to the heaven\"]\n",
    "]"
   ]
  },
  {
   "cell_type": "code",
   "execution_count": 4,
   "id": "4dcb797f",
   "metadata": {},
   "outputs": [
    {
     "name": "stdout",
     "output_type": "stream",
     "text": [
      "hotel\n",
      "Following documents found with the best match for querry []\n",
      "Following documents found with the exact match for querry ['d1']\n"
     ]
    }
   ],
   "source": [
    "doc_with_exact_match= []\n",
    "doc_with_best_match= []\n",
    "querry = input()\n",
    "for key, val in doc_dict:\n",
    "    \n",
    "    querry1 = word_tokenize(querry)\n",
    "    word_tokens = word_tokenize(val)\n",
    "\n",
    "    filtered_sentence = [w for w in word_tokens if not w.lower() in stop_words]\n",
    "\n",
    "    filtered_sentence = []\n",
    "\n",
    "    for w in word_tokens:\n",
    "        if w not in stop_words:\n",
    "            filtered_sentence.append(w)\n",
    "\n",
    "    flag = 0\n",
    "    for word in filtered_sentence:\n",
    "        \n",
    "        for w in querry1:\n",
    "            \n",
    "            if word.lower() == w.lower():\n",
    "                flag = 1\n",
    "                break;\n",
    "                \n",
    "    if flag == 1:\n",
    "        doc_with_best_match.append(key)\n",
    "    \n",
    "    exact_match = 1\n",
    "    for w in querry1:\n",
    "            flag = 0\n",
    "            for word in filtered_sentence:\n",
    "                \n",
    "                if word.lower() == w.lower():\n",
    "                    flag = 1\n",
    "                    \n",
    "            if flag == 0:\n",
    "                exact_match = 0\n",
    "                break\n",
    "    if exact_match == 1:\n",
    "        doc_with_best_match.remove(key)\n",
    "        doc_with_exact_match.append(key)\n",
    "        \n",
    "print(\"Following documents found with the best match for querry\", doc_with_best_match)\n",
    "print(\"Following documents found with the exact match for querry\", doc_with_exact_match)"
   ]
  },
  {
   "cell_type": "code",
   "execution_count": null,
   "id": "7dd59605",
   "metadata": {},
   "outputs": [],
   "source": []
  }
 ],
 "metadata": {
  "kernelspec": {
   "display_name": "Python 3 (ipykernel)",
   "language": "python",
   "name": "python3"
  },
  "language_info": {
   "codemirror_mode": {
    "name": "ipython",
    "version": 3
   },
   "file_extension": ".py",
   "mimetype": "text/x-python",
   "name": "python",
   "nbconvert_exporter": "python",
   "pygments_lexer": "ipython3",
   "version": "3.9.16"
  }
 },
 "nbformat": 4,
 "nbformat_minor": 5
}
